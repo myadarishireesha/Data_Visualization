{
 "cells": [
  {
   "cell_type": "markdown",
   "id": "460455d1",
   "metadata": {},
   "source": [
    "* Collect and Understand the data"
   ]
  },
  {
   "cell_type": "code",
   "execution_count": 3,
   "id": "3c2520f5",
   "metadata": {},
   "outputs": [],
   "source": [
    "# Reading files \n",
    "import pandas as pd\n",
    "reaction=pd.read_csv(r\"D:\\career era exams\\accenture_task\\Reactions.csv\")\n",
    "reaction_types=pd.read_csv(r\"D:\\career era exams\\accenture_task\\ReactionTypes.csv\")\n",
    "content=pd.read_csv(r\"D:\\career era exams\\accenture_task\\Content.csv\")\n",
    "    "
   ]
  },
  {
   "cell_type": "code",
   "execution_count": 5,
   "id": "0e9b31ff",
   "metadata": {},
   "outputs": [
    {
     "name": "stdout",
     "output_type": "stream",
     "text": [
      "(16, 4)\n",
      "No. of duplicates in reaction_types 0\n",
      "Unnamed: 0        int64\n",
      "Reaction Type    object\n",
      "Sentiment        object\n",
      "Score             int64\n",
      "dtype: object\n",
      "Unnamed: 0       0\n",
      "Reaction Type    0\n",
      "Sentiment        0\n",
      "Score            0\n",
      "dtype: int64\n"
     ]
    },
    {
     "data": {
      "text/html": [
       "<div>\n",
       "<style scoped>\n",
       "    .dataframe tbody tr th:only-of-type {\n",
       "        vertical-align: middle;\n",
       "    }\n",
       "\n",
       "    .dataframe tbody tr th {\n",
       "        vertical-align: top;\n",
       "    }\n",
       "\n",
       "    .dataframe thead th {\n",
       "        text-align: right;\n",
       "    }\n",
       "</style>\n",
       "<table border=\"1\" class=\"dataframe\">\n",
       "  <thead>\n",
       "    <tr style=\"text-align: right;\">\n",
       "      <th></th>\n",
       "      <th>Unnamed: 0</th>\n",
       "      <th>Reaction Type</th>\n",
       "      <th>Sentiment</th>\n",
       "      <th>Score</th>\n",
       "    </tr>\n",
       "  </thead>\n",
       "  <tbody>\n",
       "    <tr>\n",
       "      <th>0</th>\n",
       "      <td>0</td>\n",
       "      <td>heart</td>\n",
       "      <td>positive</td>\n",
       "      <td>60</td>\n",
       "    </tr>\n",
       "    <tr>\n",
       "      <th>1</th>\n",
       "      <td>1</td>\n",
       "      <td>want</td>\n",
       "      <td>positive</td>\n",
       "      <td>70</td>\n",
       "    </tr>\n",
       "    <tr>\n",
       "      <th>2</th>\n",
       "      <td>2</td>\n",
       "      <td>disgust</td>\n",
       "      <td>negative</td>\n",
       "      <td>0</td>\n",
       "    </tr>\n",
       "    <tr>\n",
       "      <th>3</th>\n",
       "      <td>3</td>\n",
       "      <td>hate</td>\n",
       "      <td>negative</td>\n",
       "      <td>5</td>\n",
       "    </tr>\n",
       "    <tr>\n",
       "      <th>4</th>\n",
       "      <td>4</td>\n",
       "      <td>interested</td>\n",
       "      <td>positive</td>\n",
       "      <td>30</td>\n",
       "    </tr>\n",
       "  </tbody>\n",
       "</table>\n",
       "</div>"
      ],
      "text/plain": [
       "   Unnamed: 0 Reaction Type Sentiment  Score\n",
       "0           0         heart  positive     60\n",
       "1           1          want  positive     70\n",
       "2           2       disgust  negative      0\n",
       "3           3          hate  negative      5\n",
       "4           4    interested  positive     30"
      ]
     },
     "execution_count": 5,
     "metadata": {},
     "output_type": "execute_result"
    }
   ],
   "source": [
    "print(reaction_types.shape)\n",
    "print(\"No. of duplicates in reaction_types\",reaction_types.duplicated().sum())\n",
    "print(reaction_types.dtypes)\n",
    "print(reaction_types.isna().sum())\n",
    "reaction_types.head()"
   ]
  },
  {
   "cell_type": "code",
   "execution_count": 6,
   "id": "7b8ff0ca",
   "metadata": {},
   "outputs": [
    {
     "name": "stdout",
     "output_type": "stream",
     "text": [
      "(1000, 6)\n",
      "No.od duplicates in content: 0\n",
      "Unnamed: 0           int64\n",
      "Content ID          object\n",
      "User ID             object\n",
      "Content Type        object\n",
      "Content Category    object\n",
      "URL                 object\n",
      "dtype: object\n",
      "Unnamed: 0            0\n",
      "Content ID            0\n",
      "User ID               0\n",
      "Content Type          0\n",
      "Content Category      0\n",
      "URL                 199\n",
      "dtype: int64\n"
     ]
    }
   ],
   "source": [
    "print(content.shape)\n",
    "print(\"No.od duplicates in content:\",content.duplicated().sum())\n",
    "print(content.dtypes)\n",
    "print(content.isna().sum())\n",
    "\n"
   ]
  },
  {
   "cell_type": "markdown",
   "id": "c0773f6d",
   "metadata": {},
   "source": [
    "# DATA Modeling\n",
    "* Create a final data set by merging your three tables together"
   ]
  },
  {
   "cell_type": "code",
   "execution_count": 7,
   "id": "57751fcc",
   "metadata": {},
   "outputs": [
    {
     "name": "stdout",
     "output_type": "stream",
     "text": [
      "(25553, 10)\n",
      "(25553, 13)\n"
     ]
    },
    {
     "data": {
      "text/html": [
       "<div>\n",
       "<style scoped>\n",
       "    .dataframe tbody tr th:only-of-type {\n",
       "        vertical-align: middle;\n",
       "    }\n",
       "\n",
       "    .dataframe tbody tr th {\n",
       "        vertical-align: top;\n",
       "    }\n",
       "\n",
       "    .dataframe thead th {\n",
       "        text-align: right;\n",
       "    }\n",
       "</style>\n",
       "<table border=\"1\" class=\"dataframe\">\n",
       "  <thead>\n",
       "    <tr style=\"text-align: right;\">\n",
       "      <th></th>\n",
       "      <th>Unnamed: 0_x</th>\n",
       "      <th>Content ID</th>\n",
       "      <th>User ID_x</th>\n",
       "      <th>Reaction Type</th>\n",
       "      <th>Datetime</th>\n",
       "      <th>Unnamed: 0_y</th>\n",
       "      <th>User ID_y</th>\n",
       "      <th>Content Type</th>\n",
       "      <th>Content Category</th>\n",
       "      <th>URL</th>\n",
       "      <th>Unnamed: 0</th>\n",
       "      <th>Sentiment</th>\n",
       "      <th>Score</th>\n",
       "    </tr>\n",
       "  </thead>\n",
       "  <tbody>\n",
       "    <tr>\n",
       "      <th>0</th>\n",
       "      <td>0</td>\n",
       "      <td>97522e57-d9ab-4bd6-97bf-c24d952602d2</td>\n",
       "      <td>NaN</td>\n",
       "      <td>NaN</td>\n",
       "      <td>22-04-2021 15:17</td>\n",
       "      <td>0</td>\n",
       "      <td>8d3cd87d-8a31-4935-9a4f-b319bfe05f31</td>\n",
       "      <td>photo</td>\n",
       "      <td>Studying</td>\n",
       "      <td>https://socialbuzz.cdn.com/content/storage/975...</td>\n",
       "      <td>NaN</td>\n",
       "      <td>NaN</td>\n",
       "      <td>NaN</td>\n",
       "    </tr>\n",
       "    <tr>\n",
       "      <th>1</th>\n",
       "      <td>1</td>\n",
       "      <td>97522e57-d9ab-4bd6-97bf-c24d952602d2</td>\n",
       "      <td>5d454588-283d-459d-915d-c48a2cb4c27f</td>\n",
       "      <td>disgust</td>\n",
       "      <td>07-11-2020 09:43</td>\n",
       "      <td>0</td>\n",
       "      <td>8d3cd87d-8a31-4935-9a4f-b319bfe05f31</td>\n",
       "      <td>photo</td>\n",
       "      <td>Studying</td>\n",
       "      <td>https://socialbuzz.cdn.com/content/storage/975...</td>\n",
       "      <td>2.0</td>\n",
       "      <td>negative</td>\n",
       "      <td>0.0</td>\n",
       "    </tr>\n",
       "    <tr>\n",
       "      <th>2</th>\n",
       "      <td>2</td>\n",
       "      <td>97522e57-d9ab-4bd6-97bf-c24d952602d2</td>\n",
       "      <td>92b87fa5-f271-43e0-af66-84fac21052e6</td>\n",
       "      <td>dislike</td>\n",
       "      <td>17-06-2021 12:22</td>\n",
       "      <td>0</td>\n",
       "      <td>8d3cd87d-8a31-4935-9a4f-b319bfe05f31</td>\n",
       "      <td>photo</td>\n",
       "      <td>Studying</td>\n",
       "      <td>https://socialbuzz.cdn.com/content/storage/975...</td>\n",
       "      <td>11.0</td>\n",
       "      <td>negative</td>\n",
       "      <td>10.0</td>\n",
       "    </tr>\n",
       "    <tr>\n",
       "      <th>3</th>\n",
       "      <td>3</td>\n",
       "      <td>97522e57-d9ab-4bd6-97bf-c24d952602d2</td>\n",
       "      <td>163daa38-8b77-48c9-9af6-37a6c1447ac2</td>\n",
       "      <td>scared</td>\n",
       "      <td>18-04-2021 05:13</td>\n",
       "      <td>0</td>\n",
       "      <td>8d3cd87d-8a31-4935-9a4f-b319bfe05f31</td>\n",
       "      <td>photo</td>\n",
       "      <td>Studying</td>\n",
       "      <td>https://socialbuzz.cdn.com/content/storage/975...</td>\n",
       "      <td>14.0</td>\n",
       "      <td>negative</td>\n",
       "      <td>15.0</td>\n",
       "    </tr>\n",
       "    <tr>\n",
       "      <th>4</th>\n",
       "      <td>4</td>\n",
       "      <td>97522e57-d9ab-4bd6-97bf-c24d952602d2</td>\n",
       "      <td>34e8add9-0206-47fd-a501-037b994650a2</td>\n",
       "      <td>disgust</td>\n",
       "      <td>06-01-2021 19:13</td>\n",
       "      <td>0</td>\n",
       "      <td>8d3cd87d-8a31-4935-9a4f-b319bfe05f31</td>\n",
       "      <td>photo</td>\n",
       "      <td>Studying</td>\n",
       "      <td>https://socialbuzz.cdn.com/content/storage/975...</td>\n",
       "      <td>2.0</td>\n",
       "      <td>negative</td>\n",
       "      <td>0.0</td>\n",
       "    </tr>\n",
       "  </tbody>\n",
       "</table>\n",
       "</div>"
      ],
      "text/plain": [
       "   Unnamed: 0_x                            Content ID  \\\n",
       "0             0  97522e57-d9ab-4bd6-97bf-c24d952602d2   \n",
       "1             1  97522e57-d9ab-4bd6-97bf-c24d952602d2   \n",
       "2             2  97522e57-d9ab-4bd6-97bf-c24d952602d2   \n",
       "3             3  97522e57-d9ab-4bd6-97bf-c24d952602d2   \n",
       "4             4  97522e57-d9ab-4bd6-97bf-c24d952602d2   \n",
       "\n",
       "                              User ID_x Reaction Type          Datetime  \\\n",
       "0                                   NaN           NaN  22-04-2021 15:17   \n",
       "1  5d454588-283d-459d-915d-c48a2cb4c27f       disgust  07-11-2020 09:43   \n",
       "2  92b87fa5-f271-43e0-af66-84fac21052e6       dislike  17-06-2021 12:22   \n",
       "3  163daa38-8b77-48c9-9af6-37a6c1447ac2        scared  18-04-2021 05:13   \n",
       "4  34e8add9-0206-47fd-a501-037b994650a2       disgust  06-01-2021 19:13   \n",
       "\n",
       "   Unnamed: 0_y                             User ID_y Content Type  \\\n",
       "0             0  8d3cd87d-8a31-4935-9a4f-b319bfe05f31        photo   \n",
       "1             0  8d3cd87d-8a31-4935-9a4f-b319bfe05f31        photo   \n",
       "2             0  8d3cd87d-8a31-4935-9a4f-b319bfe05f31        photo   \n",
       "3             0  8d3cd87d-8a31-4935-9a4f-b319bfe05f31        photo   \n",
       "4             0  8d3cd87d-8a31-4935-9a4f-b319bfe05f31        photo   \n",
       "\n",
       "  Content Category                                                URL  \\\n",
       "0         Studying  https://socialbuzz.cdn.com/content/storage/975...   \n",
       "1         Studying  https://socialbuzz.cdn.com/content/storage/975...   \n",
       "2         Studying  https://socialbuzz.cdn.com/content/storage/975...   \n",
       "3         Studying  https://socialbuzz.cdn.com/content/storage/975...   \n",
       "4         Studying  https://socialbuzz.cdn.com/content/storage/975...   \n",
       "\n",
       "   Unnamed: 0 Sentiment  Score  \n",
       "0         NaN       NaN    NaN  \n",
       "1         2.0  negative    0.0  \n",
       "2        11.0  negative   10.0  \n",
       "3        14.0  negative   15.0  \n",
       "4         2.0  negative    0.0  "
      ]
     },
     "execution_count": 7,
     "metadata": {},
     "output_type": "execute_result"
    }
   ],
   "source": [
    "\n",
    "join1=pd.merge(reaction,content,on=\"Content ID\",how=\"left\")\n",
    "print(join1.shape)\n",
    "join2=pd.merge(join1,reaction_types,on=\"Reaction Type\",how=\"left\")\n",
    "print(join2.shape)\n",
    "join2.head()"
   ]
  },
  {
   "cell_type": "code",
   "execution_count": 8,
   "id": "9596bb2c",
   "metadata": {},
   "outputs": [],
   "source": [
    "final_df=join2.drop([ 'Unnamed: 0_x', 'User ID_x',\n",
    "       'Unnamed: 0_y', 'User ID_y', 'URL',\n",
    "       'Unnamed: 0'],axis=1)"
   ]
  },
  {
   "cell_type": "markdown",
   "id": "16bee44c",
   "metadata": {},
   "source": [
    "# EDA"
   ]
  },
  {
   "cell_type": "markdown",
   "id": "179fed5c",
   "metadata": {},
   "source": [
    "# Data Cleaning\n",
    "1. Finding duplicates and eliminate\n",
    "2. Find null values \n",
    "3. Change data types\n",
    "4. Distinct values -categorical values"
   ]
  },
  {
   "cell_type": "code",
   "execution_count": 11,
   "id": "e1a6d819",
   "metadata": {},
   "outputs": [
    {
     "name": "stdout",
     "output_type": "stream",
     "text": [
      " Total Duplicates in final dataset:  0\n",
      "Null values are : Content ID            0\n",
      "Reaction Type       980\n",
      "Datetime              0\n",
      "Content Type          0\n",
      "Content Category      0\n",
      "Sentiment           980\n",
      "Score               980\n",
      "dtype: int64\n"
     ]
    },
    {
     "data": {
      "text/html": [
       "<div>\n",
       "<style scoped>\n",
       "    .dataframe tbody tr th:only-of-type {\n",
       "        vertical-align: middle;\n",
       "    }\n",
       "\n",
       "    .dataframe tbody tr th {\n",
       "        vertical-align: top;\n",
       "    }\n",
       "\n",
       "    .dataframe thead th {\n",
       "        text-align: right;\n",
       "    }\n",
       "</style>\n",
       "<table border=\"1\" class=\"dataframe\">\n",
       "  <thead>\n",
       "    <tr style=\"text-align: right;\">\n",
       "      <th></th>\n",
       "      <th>Content ID</th>\n",
       "      <th>Reaction Type</th>\n",
       "      <th>Datetime</th>\n",
       "      <th>Content Type</th>\n",
       "      <th>Content Category</th>\n",
       "      <th>Sentiment</th>\n",
       "      <th>Score</th>\n",
       "    </tr>\n",
       "  </thead>\n",
       "  <tbody>\n",
       "    <tr>\n",
       "      <th>0</th>\n",
       "      <td>97522e57-d9ab-4bd6-97bf-c24d952602d2</td>\n",
       "      <td>NaN</td>\n",
       "      <td>22-04-2021 15:17</td>\n",
       "      <td>photo</td>\n",
       "      <td>Studying</td>\n",
       "      <td>NaN</td>\n",
       "      <td>NaN</td>\n",
       "    </tr>\n",
       "    <tr>\n",
       "      <th>1</th>\n",
       "      <td>97522e57-d9ab-4bd6-97bf-c24d952602d2</td>\n",
       "      <td>disgust</td>\n",
       "      <td>07-11-2020 09:43</td>\n",
       "      <td>photo</td>\n",
       "      <td>Studying</td>\n",
       "      <td>negative</td>\n",
       "      <td>0.0</td>\n",
       "    </tr>\n",
       "    <tr>\n",
       "      <th>2</th>\n",
       "      <td>97522e57-d9ab-4bd6-97bf-c24d952602d2</td>\n",
       "      <td>dislike</td>\n",
       "      <td>17-06-2021 12:22</td>\n",
       "      <td>photo</td>\n",
       "      <td>Studying</td>\n",
       "      <td>negative</td>\n",
       "      <td>10.0</td>\n",
       "    </tr>\n",
       "    <tr>\n",
       "      <th>3</th>\n",
       "      <td>97522e57-d9ab-4bd6-97bf-c24d952602d2</td>\n",
       "      <td>scared</td>\n",
       "      <td>18-04-2021 05:13</td>\n",
       "      <td>photo</td>\n",
       "      <td>Studying</td>\n",
       "      <td>negative</td>\n",
       "      <td>15.0</td>\n",
       "    </tr>\n",
       "    <tr>\n",
       "      <th>4</th>\n",
       "      <td>97522e57-d9ab-4bd6-97bf-c24d952602d2</td>\n",
       "      <td>disgust</td>\n",
       "      <td>06-01-2021 19:13</td>\n",
       "      <td>photo</td>\n",
       "      <td>Studying</td>\n",
       "      <td>negative</td>\n",
       "      <td>0.0</td>\n",
       "    </tr>\n",
       "  </tbody>\n",
       "</table>\n",
       "</div>"
      ],
      "text/plain": [
       "                             Content ID Reaction Type          Datetime  \\\n",
       "0  97522e57-d9ab-4bd6-97bf-c24d952602d2           NaN  22-04-2021 15:17   \n",
       "1  97522e57-d9ab-4bd6-97bf-c24d952602d2       disgust  07-11-2020 09:43   \n",
       "2  97522e57-d9ab-4bd6-97bf-c24d952602d2       dislike  17-06-2021 12:22   \n",
       "3  97522e57-d9ab-4bd6-97bf-c24d952602d2        scared  18-04-2021 05:13   \n",
       "4  97522e57-d9ab-4bd6-97bf-c24d952602d2       disgust  06-01-2021 19:13   \n",
       "\n",
       "  Content Type Content Category Sentiment  Score  \n",
       "0        photo         Studying       NaN    NaN  \n",
       "1        photo         Studying  negative    0.0  \n",
       "2        photo         Studying  negative   10.0  \n",
       "3        photo         Studying  negative   15.0  \n",
       "4        photo         Studying  negative    0.0  "
      ]
     },
     "execution_count": 11,
     "metadata": {},
     "output_type": "execute_result"
    }
   ],
   "source": [
    "print(\" Total Duplicates in final dataset: \",final_df.duplicated().sum())\n",
    "print(\"Null values are :\",final_df.isna().sum())\n",
    "\n",
    "final_df.head()\n"
   ]
  },
  {
   "cell_type": "code",
   "execution_count": 12,
   "id": "ca9af086",
   "metadata": {},
   "outputs": [
    {
     "name": "stdout",
     "output_type": "stream",
     "text": [
      "Reaction Types are:  16\n"
     ]
    },
    {
     "data": {
      "text/plain": [
       "array([nan, 'disgust', 'dislike', 'scared', 'interested', 'peeking',\n",
       "       'cherish', 'hate', 'love', 'indifferent', 'super love',\n",
       "       'intrigued', 'worried', 'like', 'heart', 'want', 'adore'],\n",
       "      dtype=object)"
      ]
     },
     "execution_count": 12,
     "metadata": {},
     "output_type": "execute_result"
    }
   ],
   "source": [
    "print(\"Reaction Types are: \",final_df[\"Reaction Type\"].nunique())    \n",
    "final_df[\"Reaction Type\"].unique()"
   ]
  },
  {
   "cell_type": "code",
   "execution_count": 13,
   "id": "f0099fc7",
   "metadata": {},
   "outputs": [
    {
     "name": "stdout",
     "output_type": "stream",
     "text": [
      "Content Category:  41\n"
     ]
    },
    {
     "data": {
      "text/plain": [
       "array(['Studying', 'healthy eating', 'technology', 'food', 'cooking',\n",
       "       'dogs', 'soccer', 'public speaking', 'science', 'tennis', 'travel',\n",
       "       'fitness', 'education', 'studying', 'veganism', 'Animals',\n",
       "       'animals', 'culture', '\"culture\"', 'Fitness', '\"studying\"',\n",
       "       'Veganism', '\"animals\"', 'Travel', '\"soccer\"', 'Education',\n",
       "       '\"dogs\"', 'Technology', 'Soccer', '\"tennis\"', 'Culture', '\"food\"',\n",
       "       'Food', '\"technology\"', 'Healthy Eating', '\"cooking\"', 'Science',\n",
       "       '\"public speaking\"', '\"veganism\"', 'Public Speaking', '\"science\"'],\n",
       "      dtype=object)"
      ]
     },
     "execution_count": 13,
     "metadata": {},
     "output_type": "execute_result"
    }
   ],
   "source": [
    "print(\"Content Category: \" ,final_df[\"Content Category\"].nunique())\n",
    "final_df[\"Content Category\"].unique()"
   ]
  },
  {
   "cell_type": "code",
   "execution_count": 14,
   "id": "104558ba",
   "metadata": {},
   "outputs": [],
   "source": [
    "#final_df[\"Content Category\"] = final_df[\"Content Category\"].str.replace('\"', '')\n",
    "final_df[\"Content Category\"] = final_df[\"Content Category\"].str.replace('\"', ' ').str.strip().str.lower()\n",
    "\n"
   ]
  },
  {
   "cell_type": "code",
   "execution_count": 16,
   "id": "3ff101a9",
   "metadata": {},
   "outputs": [
    {
     "name": "stdout",
     "output_type": "stream",
     "text": [
      "Distinct values of content category:   16\n"
     ]
    },
    {
     "data": {
      "text/plain": [
       "array(['studying', 'healthy eating', 'technology', 'food', 'cooking',\n",
       "       'dogs', 'soccer', 'public speaking', 'science', 'tennis', 'travel',\n",
       "       'fitness', 'education', 'veganism', 'animals', 'culture'],\n",
       "      dtype=object)"
      ]
     },
     "execution_count": 16,
     "metadata": {},
     "output_type": "execute_result"
    }
   ],
   "source": [
    "print(\"Distinct values of content category:  \", final_df[\"Content Category\"].nunique())\n",
    "final_df[\"Content Category\"].unique()"
   ]
  },
  {
   "cell_type": "code",
   "execution_count": 24,
   "id": "a4fa4705",
   "metadata": {},
   "outputs": [
    {
     "name": "stdout",
     "output_type": "stream",
     "text": [
      "The total reactions types for the contents are: 16\n",
      "Reaction types are : \n",
      " ['disgust' 'dislike' 'scared' 'interested' 'peeking' 'cherish' 'hate'\n",
      " 'love' 'indifferent' 'super love' 'intrigued' 'worried' 'like' 'heart'\n",
      " 'want' 'adore']\n"
     ]
    }
   ],
   "source": [
    "print(\"The total reactions types for the contents are:\",final_df[\"Reaction Type\"].nunique())\n",
    "print(\"Reaction types are :\",\"\\n\",final_df[\"Reaction Type\"].unique())\n"
   ]
  },
  {
   "cell_type": "markdown",
   "id": "96f9171b",
   "metadata": {},
   "source": [
    "# Data Cleaning/Manipulation\n",
    "# as client requested removing outliers by dropping them"
   ]
  },
  {
   "cell_type": "code",
   "execution_count": 17,
   "id": "6fb2f45e",
   "metadata": {},
   "outputs": [
    {
     "name": "stdout",
     "output_type": "stream",
     "text": [
      "Content ID          0\n",
      "Reaction Type       0\n",
      "Datetime            0\n",
      "Content Type        0\n",
      "Content Category    0\n",
      "Sentiment           0\n",
      "Score               0\n",
      "dtype: int64\n"
     ]
    }
   ],
   "source": [
    "\n",
    "final_df=final_df.dropna()\n",
    "print(final_df.isna().sum())"
   ]
  },
  {
   "cell_type": "code",
   "execution_count": 27,
   "id": "e559d65a",
   "metadata": {},
   "outputs": [],
   "source": [
    "from datetime import date\n",
    "final_df[\"Datetime\"] =pd.to_datetime (final_df [\"Datetime\"] )\n"
   ]
  },
  {
   "cell_type": "code",
   "execution_count": 28,
   "id": "31428595",
   "metadata": {},
   "outputs": [
    {
     "data": {
      "text/plain": [
       "array([2020, 2021], dtype=int64)"
      ]
     },
     "execution_count": 28,
     "metadata": {},
     "output_type": "execute_result"
    }
   ],
   "source": [
    "final_df[\"Datetime\"].dt.year.unique()"
   ]
  },
  {
   "cell_type": "code",
   "execution_count": 29,
   "id": "a11c7501",
   "metadata": {},
   "outputs": [],
   "source": [
    "final_df[\"Month\"]=final_df[\"Datetime\"].dt.month"
   ]
  },
  {
   "cell_type": "code",
   "execution_count": 30,
   "id": "ffdcf0c1",
   "metadata": {},
   "outputs": [
    {
     "data": {
      "text/html": [
       "<div>\n",
       "<style scoped>\n",
       "    .dataframe tbody tr th:only-of-type {\n",
       "        vertical-align: middle;\n",
       "    }\n",
       "\n",
       "    .dataframe tbody tr th {\n",
       "        vertical-align: top;\n",
       "    }\n",
       "\n",
       "    .dataframe thead th {\n",
       "        text-align: right;\n",
       "    }\n",
       "</style>\n",
       "<table border=\"1\" class=\"dataframe\">\n",
       "  <thead>\n",
       "    <tr style=\"text-align: right;\">\n",
       "      <th></th>\n",
       "      <th>Content ID</th>\n",
       "      <th>Reaction Type</th>\n",
       "      <th>Datetime</th>\n",
       "      <th>Content Type</th>\n",
       "      <th>Content Category</th>\n",
       "      <th>Sentiment</th>\n",
       "      <th>Score</th>\n",
       "      <th>Month</th>\n",
       "    </tr>\n",
       "  </thead>\n",
       "  <tbody>\n",
       "    <tr>\n",
       "      <th>1</th>\n",
       "      <td>97522e57-d9ab-4bd6-97bf-c24d952602d2</td>\n",
       "      <td>disgust</td>\n",
       "      <td>2020-07-11 09:43:00</td>\n",
       "      <td>photo</td>\n",
       "      <td>studying</td>\n",
       "      <td>negative</td>\n",
       "      <td>0.0</td>\n",
       "      <td>7</td>\n",
       "    </tr>\n",
       "    <tr>\n",
       "      <th>2</th>\n",
       "      <td>97522e57-d9ab-4bd6-97bf-c24d952602d2</td>\n",
       "      <td>dislike</td>\n",
       "      <td>2021-06-17 12:22:00</td>\n",
       "      <td>photo</td>\n",
       "      <td>studying</td>\n",
       "      <td>negative</td>\n",
       "      <td>10.0</td>\n",
       "      <td>6</td>\n",
       "    </tr>\n",
       "    <tr>\n",
       "      <th>3</th>\n",
       "      <td>97522e57-d9ab-4bd6-97bf-c24d952602d2</td>\n",
       "      <td>scared</td>\n",
       "      <td>2021-04-18 05:13:00</td>\n",
       "      <td>photo</td>\n",
       "      <td>studying</td>\n",
       "      <td>negative</td>\n",
       "      <td>15.0</td>\n",
       "      <td>4</td>\n",
       "    </tr>\n",
       "    <tr>\n",
       "      <th>4</th>\n",
       "      <td>97522e57-d9ab-4bd6-97bf-c24d952602d2</td>\n",
       "      <td>disgust</td>\n",
       "      <td>2021-06-01 19:13:00</td>\n",
       "      <td>photo</td>\n",
       "      <td>studying</td>\n",
       "      <td>negative</td>\n",
       "      <td>0.0</td>\n",
       "      <td>6</td>\n",
       "    </tr>\n",
       "    <tr>\n",
       "      <th>5</th>\n",
       "      <td>97522e57-d9ab-4bd6-97bf-c24d952602d2</td>\n",
       "      <td>interested</td>\n",
       "      <td>2020-08-23 12:25:00</td>\n",
       "      <td>photo</td>\n",
       "      <td>studying</td>\n",
       "      <td>positive</td>\n",
       "      <td>30.0</td>\n",
       "      <td>8</td>\n",
       "    </tr>\n",
       "  </tbody>\n",
       "</table>\n",
       "</div>"
      ],
      "text/plain": [
       "                             Content ID Reaction Type            Datetime  \\\n",
       "1  97522e57-d9ab-4bd6-97bf-c24d952602d2       disgust 2020-07-11 09:43:00   \n",
       "2  97522e57-d9ab-4bd6-97bf-c24d952602d2       dislike 2021-06-17 12:22:00   \n",
       "3  97522e57-d9ab-4bd6-97bf-c24d952602d2        scared 2021-04-18 05:13:00   \n",
       "4  97522e57-d9ab-4bd6-97bf-c24d952602d2       disgust 2021-06-01 19:13:00   \n",
       "5  97522e57-d9ab-4bd6-97bf-c24d952602d2    interested 2020-08-23 12:25:00   \n",
       "\n",
       "  Content Type Content Category Sentiment  Score  Month  \n",
       "1        photo         studying  negative    0.0      7  \n",
       "2        photo         studying  negative   10.0      6  \n",
       "3        photo         studying  negative   15.0      4  \n",
       "4        photo         studying  negative    0.0      6  \n",
       "5        photo         studying  positive   30.0      8  "
      ]
     },
     "execution_count": 30,
     "metadata": {},
     "output_type": "execute_result"
    }
   ],
   "source": [
    "final_df.head()"
   ]
  },
  {
   "cell_type": "code",
   "execution_count": 18,
   "id": "b72e7f96",
   "metadata": {},
   "outputs": [],
   "source": [
    "# cleaned_final_dataset\n",
    "social_buzz=final_df.to_csv(\"D:\\\\career era exams\\\\accenture_task\\\\socialBuzz_cleaned_data.csv\")"
   ]
  },
  {
   "cell_type": "markdown",
   "id": "3e89d09a",
   "metadata": {},
   "source": [
    "# Insights"
   ]
  },
  {
   "cell_type": "markdown",
   "id": "19a985ab",
   "metadata": {},
   "source": [
    "\n",
    "# Top 5 categories with the largest popularity\n",
    "* popularity is quantified by the “Score” given to each reaction type."
   ]
  },
  {
   "cell_type": "code",
   "execution_count": 19,
   "id": "b449f5ca",
   "metadata": {},
   "outputs": [
    {
     "data": {
      "text/plain": [
       "Content Category\n",
       "animals           74965.0\n",
       "science           71168.0\n",
       "healthy eating    69339.0\n",
       "technology        68738.0\n",
       "food              66676.0\n",
       "Name: Score, dtype: float64"
      ]
     },
     "execution_count": 19,
     "metadata": {},
     "output_type": "execute_result"
    }
   ],
   "source": [
    "final_df.groupby(['Content Category'])['Score'].aggregate(sum).sort_values(ascending = False).head(5)\n"
   ]
  },
  {
   "cell_type": "code",
   "execution_count": 20,
   "id": "51192ab4",
   "metadata": {},
   "outputs": [
    {
     "data": {
      "text/plain": [
       "<AxesSubplot:xlabel='Content Category'>"
      ]
     },
     "execution_count": 20,
     "metadata": {},
     "output_type": "execute_result"
    },
    {
     "data": {
      "image/png": "[encoded data removed]",
      "text/plain": [
       "<Figure size 432x288 with 1 Axes>"
      ]
     },
     "metadata": {
      "needs_background": "light"
     },
     "output_type": "display_data"
    }
   ],
   "source": [
    "final_df.groupby(['Content Category'])['Score'].sum().sort_values(ascending = False).plot(kind='bar', y='Content Category')"
   ]
  },
  {
   "cell_type": "markdown",
   "id": "fa483161",
   "metadata": {},
   "source": [
    "# Among 16 reactions types Travel and Science content categories are highly reacted as 1897 and 1796 respectively."
   ]
  },
  {
   "cell_type": "code",
   "execution_count": 23,
   "id": "e153b607",
   "metadata": {},
   "outputs": [
    {
     "data": {
      "text/plain": [
       "<AxesSubplot:ylabel='Score'>"
      ]
     },
     "execution_count": 23,
     "metadata": {},
     "output_type": "execute_result"
    },
    {
     "data": {
      "image/png": "[encoded data removed]",
      "text/plain": [
       "<Figure size 432x288 with 1 Axes>"
      ]
     },
     "metadata": {},
     "output_type": "display_data"
    }
   ],
   "source": [
    "final_df.groupby(['Content Category'])['Score'].sum().sort_values(ascending = False).head(5).plot(kind='pie', y='Content Category',autopct='%1.0f%%')"
   ]
  },
  {
   "cell_type": "code",
   "execution_count": 25,
   "id": "71d0648d",
   "metadata": {},
   "outputs": [
    {
     "data": {
      "text/plain": [
       "Content Category\n",
       "animals            1897\n",
       "science            1796\n",
       "healthy eating     1717\n",
       "food               1699\n",
       "technology         1698\n",
       "culture            1676\n",
       "cooking            1664\n",
       "travel             1647\n",
       "soccer             1457\n",
       "education          1433\n",
       "fitness            1395\n",
       "studying           1363\n",
       "dogs               1338\n",
       "tennis             1328\n",
       "veganism           1248\n",
       "public speaking    1217\n",
       "Name: Reaction Type, dtype: int64"
      ]
     },
     "execution_count": 25,
     "metadata": {},
     "output_type": "execute_result"
    }
   ],
   "source": [
    "final_df.groupby(['Content Category'])[\"Reaction Type\"].count().sort_values(ascending = False)"
   ]
  },
  {
   "cell_type": "code",
   "execution_count": 26,
   "id": "27843a94",
   "metadata": {},
   "outputs": [
    {
     "data": {
      "text/plain": [
       "<AxesSubplot:ylabel='Content Category'>"
      ]
     },
     "execution_count": 26,
     "metadata": {},
     "output_type": "execute_result"
    },
    {
     "data": {
      "image/png": "[encoded data removed]",
      "text/plain": [
       "<Figure size 432x288 with 1 Axes>"
      ]
     },
     "metadata": {},
     "output_type": "display_data"
    }
   ],
   "source": [
    "final_df.groupby([\"Sentiment\"])[\"Content Category\"].count().plot(\n",
    "    kind='pie', y=\"Sentiment\",\n",
    "  autopct='%1.0f%%', explode=(0.05, 0.05, 0.05))"
   ]
  },
  {
   "cell_type": "code",
   "execution_count": 31,
   "id": "b1fd9028",
   "metadata": {},
   "outputs": [
    {
     "data": {
      "text/plain": [
       "Month\n",
       "1     2142\n",
       "7     2116\n",
       "5     2110\n",
       "12    2099\n",
       "10    2087\n",
       "6     2068\n",
       "8     2055\n",
       "11    2055\n",
       "9     1991\n",
       "3     1982\n",
       "4     1978\n",
       "2     1890\n",
       "Name: Content Category, dtype: int64"
      ]
     },
     "execution_count": 31,
     "metadata": {},
     "output_type": "execute_result"
    }
   ],
   "source": [
    "\n",
    "final_df.groupby([\"Month\"])[\"Content Category\"].count().sort_values(ascending = False)\n",
    "\n"
   ]
  },
  {
   "cell_type": "markdown",
   "id": "6986543c",
   "metadata": {},
   "source": [
    "# in this 2 years perioed January Month is the high"
   ]
  },
  {
   "cell_type": "markdown",
   "id": "97e1e946",
   "metadata": {},
   "source": [
    "# 2nd approach\n",
    "* Data Manipulation with Majority values\n",
    "\n"
   ]
  },
  {
   "cell_type": "code",
   "execution_count": 39,
   "id": "2cb73d54",
   "metadata": {},
   "outputs": [
    {
     "name": "stdout",
     "output_type": "stream",
     "text": [
      "Content ID              0\n",
      "Reaction Type         980\n",
      "Datetime                0\n",
      "Content Type            0\n",
      "Content Category    24553\n",
      "Sentiment             980\n",
      "Score                 980\n",
      "dtype: int64\n"
     ]
    }
   ],
   "source": [
    "# Found Nulls\n",
    "print(final_df.isna().sum())"
   ]
  },
  {
   "cell_type": "code",
   "execution_count": 95,
   "id": "2e189909",
   "metadata": {},
   "outputs": [
    {
     "name": "stdout",
     "output_type": "stream",
     "text": [
      "Majority in Reaction Type:                      Content ID  Datetime  Content Type  Content Category  \\\n",
      "Reaction Type Score                                                         \n",
      "adore         72.0         1548      1548          1548                66   \n",
      "cherish       70.0         1501      1501          1501                54   \n",
      "disgust       0.0          1526      1526          1526                63   \n",
      "dislike       10.0         1548      1548          1548                54   \n",
      "hate          5.0          1552      1552          1552                74   \n",
      "heart         60.0         1622      1622          1622                66   \n",
      "indifferent   20.0         1512      1512          1512                62   \n",
      "interested    30.0         1549      1549          1549                58   \n",
      "intrigued     45.0         1475      1475          1475                59   \n",
      "like          50.0         1520      1520          1520                57   \n",
      "love          65.0         1534      1534          1534                60   \n",
      "peeking       35.0         1559      1559          1559                56   \n",
      "scared        15.0         1572      1572          1572                67   \n",
      "super love    75.0         1519      1519          1519                54   \n",
      "want          70.0         1539      1539          1539                49   \n",
      "worried       12.0         1497      1497          1497                63   \n",
      "\n",
      "                     Sentiment  \n",
      "Reaction Type Score             \n",
      "adore         72.0        1548  \n",
      "cherish       70.0        1501  \n",
      "disgust       0.0         1526  \n",
      "dislike       10.0        1548  \n",
      "hate          5.0         1552  \n",
      "heart         60.0        1622  \n",
      "indifferent   20.0        1512  \n",
      "interested    30.0        1549  \n",
      "intrigued     45.0        1475  \n",
      "like          50.0        1520  \n",
      "love          65.0        1534  \n",
      "peeking       35.0        1559  \n",
      "scared        15.0        1572  \n",
      "super love    75.0        1519  \n",
      "want          70.0        1539  \n",
      "worried       12.0        1497  \n",
      "Major in Content Category is:                    Content ID  Reaction Type  Datetime  Content Type  \\\n",
      "Content Category                                                       \n",
      "\"animals\"                   1              1         1             1   \n",
      "\"cooking\"                   1              1         1             1   \n",
      "\"culture\"                   3              3         3             3   \n",
      "\"dogs\"                      2              2         2             2   \n",
      "\"food\"                      1              1         1             1   \n",
      "\"public speaking\"           1              1         1             1   \n",
      "\"science\"                   1              1         1             1   \n",
      "\"soccer\"                    3              3         3             3   \n",
      "\"studying\"                  1              1         1             1   \n",
      "\"technology\"                1              1         1             1   \n",
      "\"tennis\"                    1              1         1             1   \n",
      "\"veganism\"                  1              1         1             1   \n",
      "animals                    71             71        71            71   \n",
      "cooking                    60             60        60            60   \n",
      "culture                    64             64        64            64   \n",
      "dogs                       56             56        56            56   \n",
      "education                  59             59        59            59   \n",
      "fitness                    66             66        66            66   \n",
      "food                       63             63        63            63   \n",
      "healthy eating             62             62        62            62   \n",
      "public speaking            49             49        49            49   \n",
      "science                    67             67        67            67   \n",
      "soccer                     61             61        61            61   \n",
      "studying                   57             57        57            57   \n",
      "technology                 72             72        72            72   \n",
      "tennis                     58             58        58            58   \n",
      "travel                     69             69        69            69   \n",
      "veganism                   49             49        49            49   \n",
      "\n",
      "                   Sentiment  Score  \n",
      "Content Category                     \n",
      "\"animals\"                  1      1  \n",
      "\"cooking\"                  1      1  \n",
      "\"culture\"                  3      3  \n",
      "\"dogs\"                     2      2  \n",
      "\"food\"                     1      1  \n",
      "\"public speaking\"          1      1  \n",
      "\"science\"                  1      1  \n",
      "\"soccer\"                   3      3  \n",
      "\"studying\"                 1      1  \n",
      "\"technology\"               1      1  \n",
      "\"tennis\"                   1      1  \n",
      "\"veganism\"                 1      1  \n",
      "animals                   70     70  \n",
      "cooking                   60     60  \n",
      "culture                   59     59  \n",
      "dogs                      52     52  \n",
      "education                 57     57  \n",
      "fitness                   65     65  \n",
      "food                      63     63  \n",
      "healthy eating            60     60  \n",
      "public speaking           46     46  \n",
      "science                   62     62  \n",
      "soccer                    59     59  \n",
      "studying                  54     54  \n",
      "technology                69     69  \n",
      "tennis                    56     56  \n",
      "travel                    65     65  \n",
      "veganism                  48     48  \n",
      "Major category in sentiment            Content ID  Reaction Type  Datetime  Content Type  \\\n",
      "Sentiment                                                      \n",
      "negative         7695           7695      7695          7695   \n",
      "neutral          3071           3071      3071          3071   \n",
      "positive        13807          13807     13807         13807   \n",
      "\n",
      "           Content Category  Score  \n",
      "Sentiment                           \n",
      "negative                321   7695  \n",
      "neutral                 118   3071  \n",
      "positive                523  13807  \n"
     ]
    }
   ],
   "source": [
    "print(\"Majority in Reaction Type:\",final_df.groupby([\"Reaction Type\",\"Score\"]).count())   #adore\n",
    "print(\"Major in Content Category is:\",final_df.groupby([\"Content Category\"]).count())  #animals\n",
    "print(\"Major category in sentiment\",final_df.groupby([\"Sentiment\"]).count())  #positive"
   ]
  },
  {
   "cell_type": "code",
   "execution_count": 105,
   "id": "83e98826",
   "metadata": {},
   "outputs": [
    {
     "data": {
      "text/html": [
       "<div>\n",
       "<style scoped>\n",
       "    .dataframe tbody tr th:only-of-type {\n",
       "        vertical-align: middle;\n",
       "    }\n",
       "\n",
       "    .dataframe tbody tr th {\n",
       "        vertical-align: top;\n",
       "    }\n",
       "\n",
       "    .dataframe thead th {\n",
       "        text-align: right;\n",
       "    }\n",
       "</style>\n",
       "<table border=\"1\" class=\"dataframe\">\n",
       "  <thead>\n",
       "    <tr style=\"text-align: right;\">\n",
       "      <th></th>\n",
       "      <th>Content ID</th>\n",
       "      <th>Reaction Type</th>\n",
       "      <th>Datetime</th>\n",
       "      <th>Content Type</th>\n",
       "      <th>Content Category</th>\n",
       "      <th>Sentiment</th>\n",
       "    </tr>\n",
       "    <tr>\n",
       "      <th>Score</th>\n",
       "      <th></th>\n",
       "      <th></th>\n",
       "      <th></th>\n",
       "      <th></th>\n",
       "      <th></th>\n",
       "      <th></th>\n",
       "    </tr>\n",
       "  </thead>\n",
       "  <tbody>\n",
       "    <tr>\n",
       "      <th>0.0</th>\n",
       "      <td>1526</td>\n",
       "      <td>1526</td>\n",
       "      <td>1526</td>\n",
       "      <td>1526</td>\n",
       "      <td>1526</td>\n",
       "      <td>1526</td>\n",
       "    </tr>\n",
       "    <tr>\n",
       "      <th>5.0</th>\n",
       "      <td>1552</td>\n",
       "      <td>1552</td>\n",
       "      <td>1552</td>\n",
       "      <td>1552</td>\n",
       "      <td>1552</td>\n",
       "      <td>1552</td>\n",
       "    </tr>\n",
       "    <tr>\n",
       "      <th>10.0</th>\n",
       "      <td>1548</td>\n",
       "      <td>1548</td>\n",
       "      <td>1548</td>\n",
       "      <td>1548</td>\n",
       "      <td>1548</td>\n",
       "      <td>1548</td>\n",
       "    </tr>\n",
       "    <tr>\n",
       "      <th>12.0</th>\n",
       "      <td>1497</td>\n",
       "      <td>1497</td>\n",
       "      <td>1497</td>\n",
       "      <td>1497</td>\n",
       "      <td>1497</td>\n",
       "      <td>1497</td>\n",
       "    </tr>\n",
       "    <tr>\n",
       "      <th>15.0</th>\n",
       "      <td>1572</td>\n",
       "      <td>1572</td>\n",
       "      <td>1572</td>\n",
       "      <td>1572</td>\n",
       "      <td>1572</td>\n",
       "      <td>1572</td>\n",
       "    </tr>\n",
       "    <tr>\n",
       "      <th>20.0</th>\n",
       "      <td>1512</td>\n",
       "      <td>1512</td>\n",
       "      <td>1512</td>\n",
       "      <td>1512</td>\n",
       "      <td>1512</td>\n",
       "      <td>1512</td>\n",
       "    </tr>\n",
       "    <tr>\n",
       "      <th>30.0</th>\n",
       "      <td>1549</td>\n",
       "      <td>1549</td>\n",
       "      <td>1549</td>\n",
       "      <td>1549</td>\n",
       "      <td>1549</td>\n",
       "      <td>1549</td>\n",
       "    </tr>\n",
       "    <tr>\n",
       "      <th>35.0</th>\n",
       "      <td>1559</td>\n",
       "      <td>1559</td>\n",
       "      <td>1559</td>\n",
       "      <td>1559</td>\n",
       "      <td>1559</td>\n",
       "      <td>1559</td>\n",
       "    </tr>\n",
       "    <tr>\n",
       "      <th>45.0</th>\n",
       "      <td>1475</td>\n",
       "      <td>1475</td>\n",
       "      <td>1475</td>\n",
       "      <td>1475</td>\n",
       "      <td>1475</td>\n",
       "      <td>1475</td>\n",
       "    </tr>\n",
       "    <tr>\n",
       "      <th>50.0</th>\n",
       "      <td>1520</td>\n",
       "      <td>1520</td>\n",
       "      <td>1520</td>\n",
       "      <td>1520</td>\n",
       "      <td>1520</td>\n",
       "      <td>1520</td>\n",
       "    </tr>\n",
       "    <tr>\n",
       "      <th>60.0</th>\n",
       "      <td>1622</td>\n",
       "      <td>1622</td>\n",
       "      <td>1622</td>\n",
       "      <td>1622</td>\n",
       "      <td>1622</td>\n",
       "      <td>1622</td>\n",
       "    </tr>\n",
       "    <tr>\n",
       "      <th>65.0</th>\n",
       "      <td>1534</td>\n",
       "      <td>1534</td>\n",
       "      <td>1534</td>\n",
       "      <td>1534</td>\n",
       "      <td>1534</td>\n",
       "      <td>1534</td>\n",
       "    </tr>\n",
       "    <tr>\n",
       "      <th>70.0</th>\n",
       "      <td>3040</td>\n",
       "      <td>3040</td>\n",
       "      <td>3040</td>\n",
       "      <td>3040</td>\n",
       "      <td>3040</td>\n",
       "      <td>3040</td>\n",
       "    </tr>\n",
       "    <tr>\n",
       "      <th>72.0</th>\n",
       "      <td>1548</td>\n",
       "      <td>1548</td>\n",
       "      <td>1548</td>\n",
       "      <td>1548</td>\n",
       "      <td>1548</td>\n",
       "      <td>1548</td>\n",
       "    </tr>\n",
       "    <tr>\n",
       "      <th>75.0</th>\n",
       "      <td>1519</td>\n",
       "      <td>1519</td>\n",
       "      <td>1519</td>\n",
       "      <td>1519</td>\n",
       "      <td>1519</td>\n",
       "      <td>1519</td>\n",
       "    </tr>\n",
       "  </tbody>\n",
       "</table>\n",
       "</div>"
      ],
      "text/plain": [
       "       Content ID  Reaction Type  Datetime  Content Type  Content Category  \\\n",
       "Score                                                                        \n",
       "0.0          1526           1526      1526          1526              1526   \n",
       "5.0          1552           1552      1552          1552              1552   \n",
       "10.0         1548           1548      1548          1548              1548   \n",
       "12.0         1497           1497      1497          1497              1497   \n",
       "15.0         1572           1572      1572          1572              1572   \n",
       "20.0         1512           1512      1512          1512              1512   \n",
       "30.0         1549           1549      1549          1549              1549   \n",
       "35.0         1559           1559      1559          1559              1559   \n",
       "45.0         1475           1475      1475          1475              1475   \n",
       "50.0         1520           1520      1520          1520              1520   \n",
       "60.0         1622           1622      1622          1622              1622   \n",
       "65.0         1534           1534      1534          1534              1534   \n",
       "70.0         3040           3040      3040          3040              3040   \n",
       "72.0         1548           1548      1548          1548              1548   \n",
       "75.0         1519           1519      1519          1519              1519   \n",
       "\n",
       "       Sentiment  \n",
       "Score             \n",
       "0.0         1526  \n",
       "5.0         1552  \n",
       "10.0        1548  \n",
       "12.0        1497  \n",
       "15.0        1572  \n",
       "20.0        1512  \n",
       "30.0        1549  \n",
       "35.0        1559  \n",
       "45.0        1475  \n",
       "50.0        1520  \n",
       "60.0        1622  \n",
       "65.0        1534  \n",
       "70.0        3040  \n",
       "72.0        1548  \n",
       "75.0        1519  "
      ]
     },
     "execution_count": 105,
     "metadata": {},
     "output_type": "execute_result"
    }
   ],
   "source": [
    "final_df.groupby(\"Score\").count()\n",
    "\n",
    "#df.groupby(\"Sex\").count()"
   ]
  },
  {
   "cell_type": "code",
   "execution_count": 107,
   "id": "c229e83c",
   "metadata": {},
   "outputs": [
    {
     "data": {
      "text/plain": [
       "Content ID          0\n",
       "Reaction Type       0\n",
       "Datetime            0\n",
       "Content Type        0\n",
       "Content Category    0\n",
       "Sentiment           0\n",
       "Score               0\n",
       "dtype: int64"
      ]
     },
     "execution_count": 107,
     "metadata": {},
     "output_type": "execute_result"
    }
   ],
   "source": [
    "final_df[\"Reaction Type\"].fillna(\"adore\", inplace=True)\n",
    "final_df[\"Content Category\"].fillna(\"animals\", inplace=True)\n",
    "final_df[\"Sentiment\"].fillna(\"positive\", inplace=True)\n",
    "final_df[\"Score\"].fillna(70.0, inplace=True)\n",
    "\n",
    "final_df.isna().sum()"
   ]
  }
 ],
 "metadata": {
  "kernelspec": {
   "display_name": "Python 3 (ipykernel)",
   "language": "python",
   "name": "python3"
  },
  "language_info": {
   "codemirror_mode": {
    "name": "ipython",
    "version": 3
   },
   "file_extension": ".py",
   "mimetype": "text/x-python",
   "name": "python",
   "nbconvert_exporter": "python",
   "pygments_lexer": "ipython3",
   "version": "3.9.7"
  }
 },
 "nbformat": 4,
 "nbformat_minor": 5
}
